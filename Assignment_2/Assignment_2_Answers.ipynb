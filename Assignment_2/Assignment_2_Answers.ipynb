{
 "cells": [
  {
   "cell_type": "markdown",
   "id": "835202b7-1f6e-4b87-8724-c969d0ae9d1f",
   "metadata": {},
   "source": [
    "# Assignment 2\n",
    "\n",
    "## Part I: List and Loops\n",
    "\n",
    "### Question 1: Create a list with the names of every planet in the solar system (in order)"
   ]
  },
  {
   "cell_type": "code",
   "execution_count": 10,
   "id": "39986ac2-578d-4325-83a1-c274d25eabc5",
   "metadata": {},
   "outputs": [
    {
     "name": "stdout",
     "output_type": "stream",
     "text": [
      "['Mercury', 'Venus', 'Earth', 'Mars', 'Jupiter', 'Saturn', 'Uranus', 'Neptune']\n"
     ]
    },
    {
     "data": {
      "text/plain": [
       "list"
      ]
     },
     "execution_count": 10,
     "metadata": {},
     "output_type": "execute_result"
    }
   ],
   "source": [
    "planetlist=['Mercury','Venus','Earth','Mars','Jupiter','Saturn','Uranus','Neptune']\n",
    "print(planetlist)\n",
    "type(planetlist)"
   ]
  },
  {
   "cell_type": "markdown",
   "id": "9433b5a3-3917-4a34-ad5d-57e34ea4a093",
   "metadata": {},
   "source": [
    "### Question 2: Have Python tell you how many planets there are by examining your list"
   ]
  },
  {
   "cell_type": "code",
   "execution_count": 11,
   "id": "104b6886-538e-4019-baf5-c3023f4345d6",
   "metadata": {},
   "outputs": [
    {
     "data": {
      "text/plain": [
       "8"
      ]
     },
     "execution_count": 11,
     "metadata": {},
     "output_type": "execute_result"
    }
   ],
   "source": [
    "len(planetlist)"
   ]
  },
  {
   "cell_type": "markdown",
   "id": "8795999c-6a61-4225-adf5-17be2959487b",
   "metadata": {},
   "source": [
    "### Question 3: Use slicing to display the first four planets (the rocky planets)"
   ]
  },
  {
   "cell_type": "code",
   "execution_count": 12,
   "id": "0e0abb47-1fc9-4cd6-9b6a-3c817265f175",
   "metadata": {},
   "outputs": [
    {
     "data": {
      "text/plain": [
       "['Mercury', 'Venus', 'Earth', 'Mars']"
      ]
     },
     "execution_count": 12,
     "metadata": {},
     "output_type": "execute_result"
    }
   ],
   "source": [
    "planetlist[:4]"
   ]
  },
  {
   "cell_type": "markdown",
   "id": "2de60342-5cc9-4d2c-a781-1311fe9ddc47",
   "metadata": {},
   "source": [
    "### Question 4: Iterate through your planets and print the planet name only if it has an s at the end"
   ]
  },
  {
   "cell_type": "code",
   "execution_count": 18,
   "id": "45276f6c-676e-4f75-a40d-ab5fbe2e3801",
   "metadata": {},
   "outputs": [
    {
     "name": "stdout",
     "output_type": "stream",
     "text": [
      "Venus\n",
      "Mars\n",
      "Uranus\n"
     ]
    }
   ],
   "source": [
    "for i in range(len(planetlist)):\n",
    "    planetstring=planetlist[i]\n",
    "    if planetstring[-1] == 's':\n",
    "        print(planetstring)\n"
   ]
  },
  {
   "cell_type": "markdown",
   "id": "0c9d56bd-6eb9-4857-8089-258d18b719bb",
   "metadata": {},
   "source": [
    "## Part II: Dictionaries\n",
    "\n",
    "### Question 1: Now create a dictionary that maps each planet name to its mass"
   ]
  },
  {
   "cell_type": "code",
   "execution_count": 30,
   "id": "343b6ea3-049c-4fbb-81fb-83002a61c393",
   "metadata": {},
   "outputs": [],
   "source": [
    "planetmass={'Mercury':0.33,'Venus':4.87,'Earth':5.97,'Mars':0.642,'Jupiter':1898,'Saturn':568,'Uranus':86.8,'Neptune':102}"
   ]
  },
  {
   "cell_type": "markdown",
   "id": "77ff3cf9-a4df-4462-bf1b-c6eb030fcc6b",
   "metadata": {},
   "source": [
    "### Question 2: Use your dictionary to look up Earth’s mass"
   ]
  },
  {
   "cell_type": "code",
   "execution_count": 36,
   "id": "b7fddcf1-588c-4352-8178-f4a84b3a73e4",
   "metadata": {},
   "outputs": [
    {
     "name": "stdout",
     "output_type": "stream",
     "text": [
      "Earth Mass: 5.97*10^24\n"
     ]
    }
   ],
   "source": [
    "print('Earth Mass: '+str(planetmass['Earth'])+'*10^24')"
   ]
  },
  {
   "cell_type": "markdown",
   "id": "dbcee922-55fe-43ad-8b50-d80de35989f5",
   "metadata": {},
   "source": [
    "### Question 3: Loop through the data and create a list of planets whose mast is greater than 100 x 10^24 kg"
   ]
  },
  {
   "cell_type": "code",
   "execution_count": 45,
   "id": "f43fa48a-0fc9-4ad3-bf4b-317c0b877582",
   "metadata": {},
   "outputs": [
    {
     "name": "stdout",
     "output_type": "stream",
     "text": [
      "Jupiter\n",
      "Saturn\n",
      "Neptune\n"
     ]
    }
   ],
   "source": [
    "for planet, mass in planetmass.items():\n",
    "    if mass > 100:\n",
    "        print(planet)"
   ]
  },
  {
   "cell_type": "code",
   "execution_count": 47,
   "id": "e14b6a31-eaa9-4244-8f9a-26a0d812de4f",
   "metadata": {},
   "outputs": [
    {
     "name": "stdout",
     "output_type": "stream",
     "text": [
      "{'Mercury': 0.33, 'Venus': 4.87, 'Earth': 5.97, 'Mars': 0.642, 'Jupiter': 1898, 'Saturn': 568, 'Uranus': 86.8, 'Neptune': 102, 'Pluto': 0.013}\n"
     ]
    }
   ],
   "source": [
    "planetmass['Pluto']=0.0130\n",
    "\n",
    "print(planetmass)"
   ]
  },
  {
   "cell_type": "markdown",
   "id": "e8da545b-49cb-4bdb-bb4c-b7e0df84e379",
   "metadata": {},
   "source": [
    "## Part III: Functions\n",
    "\n",
    "### Question 1: Write a function to convert temperature from kelvin to celsius and celsius to kelvin"
   ]
  },
  {
   "cell_type": "code",
   "execution_count": 58,
   "id": "9d2f02a7-7f08-410c-9334-3bbad4e7c6e2",
   "metadata": {},
   "outputs": [],
   "source": [
    "def kelvintocelsius(input):\n",
    "    \"\"\"function that converts Kelvin to Celsius\"\"\"\n",
    "    value=input-273.15\n",
    "    return value\n",
    "\n",
    "def celsiustokelvin(input):\n",
    "    \"\"\"function that converts Celsius to Kelvin\"\"\"\n",
    "    value=input+273.15\n",
    "    return value\n",
    "    \n",
    "\n",
    "\n"
   ]
  },
  {
   "cell_type": "markdown",
   "id": "64d46e29-a753-4d70-9457-015c4d33463d",
   "metadata": {},
   "source": [
    "### Question 2: Write a function to convert temperature to fahrenheit"
   ]
  },
  {
   "cell_type": "code",
   "execution_count": 50,
   "id": "5771fadd-26a2-4ec6-a7aa-7d017cdc9216",
   "metadata": {},
   "outputs": [],
   "source": [
    "def kelvincelsiustoF(temp,type):\n",
    "    \"\"\"function that converts K or C to F. Input the temperature and type (C or K) which depend on your input\"\"\"\n",
    "    if type == 'K': # where your value is in Kelvins\n",
    "        ctemp=kelvintocelsius(temp)\n",
    "    elif type == 'C':\n",
    "        ctemp=temp\n",
    "    else:\n",
    "        raise ValueError('Put C or K as type.')\n",
    "\n",
    "    F=((9/5)*ctemp)+32\n",
    "    return F\n",
    "    "
   ]
  },
  {
   "cell_type": "markdown",
   "id": "24bf8a75-f35a-4d57-8cfe-19083d662b60",
   "metadata": {},
   "source": [
    "### Question 3: Check that the outputs are sensible \n",
    "by trying a few examples"
   ]
  },
  {
   "cell_type": "code",
   "execution_count": 61,
   "id": "a984a6f3-75eb-41e2-9dfc-73a8bef3d7e6",
   "metadata": {},
   "outputs": [
    {
     "data": {
      "text/plain": [
       "32.0"
      ]
     },
     "execution_count": 61,
     "metadata": {},
     "output_type": "execute_result"
    }
   ],
   "source": [
    "kelvincelsiustoF(0,'C')"
   ]
  },
  {
   "cell_type": "code",
   "execution_count": 60,
   "id": "b4de43c5-8810-4c31-96ee-cfdd19718fb5",
   "metadata": {},
   "outputs": [
    {
     "data": {
      "text/plain": [
       "32.0"
      ]
     },
     "execution_count": 60,
     "metadata": {},
     "output_type": "execute_result"
    }
   ],
   "source": [
    "kelvincelsiustoF(273.15,'K')"
   ]
  },
  {
   "cell_type": "markdown",
   "id": "16f22ea3-e97c-4b45-aab1-6ab1211d5782",
   "metadata": {},
   "source": [
    "### Question 4: Now write a function that converts from farenheit \n",
    "and uses a keyword argument to specify whether you want the output in celcius or kelvin"
   ]
  },
  {
   "cell_type": "code",
   "execution_count": 63,
   "id": "ffae56f7-10a3-48ac-b548-cf9a624b14f7",
   "metadata": {},
   "outputs": [],
   "source": [
    "def farenheittoKC (temp,type):\n",
    "    \"\"\"function that converts F to C or K. Input the temperature and type (C or K) for your output of choice\"\"\"\n",
    "    ctemp=(5/9)*(temp-32)\n",
    "    if type == 'K':\n",
    "        outtemp=celsiustokelvin(ctemp)\n",
    "    elif type == 'C':\n",
    "        outtemp = ctemp\n",
    "    else:\n",
    "        raise ValueError('Put C or K as type.')\n",
    "    return outtemp\n",
    "\n",
    "        "
   ]
  },
  {
   "cell_type": "markdown",
   "id": "8501ca13-55f1-4cb9-b22f-e0fc2fad4676",
   "metadata": {},
   "source": [
    "### Question 5: Write a function that takes two arguments (feet and inches) and returns height in meters. Verify it gives sensible answers"
   ]
  },
  {
   "cell_type": "code",
   "execution_count": 67,
   "id": "ea8e8fe7-0256-4713-9b4b-fa69b60003f0",
   "metadata": {},
   "outputs": [],
   "source": [
    "def ftinchtometers(ft,inch):\n",
    "    meters=(ft/3.281)+(inch/39.37)\n",
    "    return meters"
   ]
  },
  {
   "cell_type": "code",
   "execution_count": 92,
   "id": "3fbde5d5-91f9-45d9-8ce4-d24571aec98c",
   "metadata": {},
   "outputs": [
    {
     "data": {
      "text/plain": [
       "1.7779261404301536"
      ]
     },
     "execution_count": 92,
     "metadata": {},
     "output_type": "execute_result"
    }
   ],
   "source": [
    "ftinchtometers(5,10)"
   ]
  },
  {
   "cell_type": "markdown",
   "id": "55183b8e-d2f5-40b2-9d91-6351679d6301",
   "metadata": {},
   "source": [
    "### Question 6: Write a function takes one argument (height in meters) and returns two arguments (feet and inches)"
   ]
  },
  {
   "cell_type": "code",
   "execution_count": 83,
   "id": "f13c0614-36c0-489a-bea9-6ca82c01d57e",
   "metadata": {},
   "outputs": [],
   "source": [
    "def meterstoftinch(meters):\n",
    "    ft=meters*3.281\n",
    "    wholeft=round(ft)\n",
    "    metersinch=ft-wholeft\n",
    "    if metersinch < 0:\n",
    "        wholeft=wholeft-1\n",
    "        metersinch=ft-wholeft\n",
    "        inch=metersinch*12\n",
    "    elif metersinch >= 0:\n",
    "        inch=metersinch*12\n",
    "        \n",
    "    return wholeft,inch"
   ]
  },
  {
   "cell_type": "markdown",
   "id": "8da0690c-f65b-44d0-a873-5e9dc09d29f0",
   "metadata": {},
   "source": [
    "### Question 7: Verify that the “round trip” conversion from and back to meters is consistent. Check for 3 different values of height in meters"
   ]
  },
  {
   "cell_type": "code",
   "execution_count": 100,
   "id": "80b434e4-cb9d-4f1c-8b2a-7c69b45f2699",
   "metadata": {},
   "outputs": [
    {
     "name": "stdout",
     "output_type": "stream",
     "text": [
      "1.8300000654935782\n",
      "1.9000036215006901\n",
      "1.6500064045906817\n"
     ]
    }
   ],
   "source": [
    "test1ft, test1inch=meterstoftinch(1.83)\n",
    "outtest1=ftinchtometers(test1ft, test1inch)\n",
    "print(outtest1)\n",
    "\n",
    "test2ft, test2inch=meterstoftinch(1.9)\n",
    "outtest2=ftinchtometers(test2ft, test2inch)\n",
    "print(outtest2)\n",
    "\n",
    "test3ft, test3inch=meterstoftinch(1.65)\n",
    "outtest3=ftinchtometers(test3ft, test3inch)\n",
    "print(outtest3)\n",
    "\n"
   ]
  }
 ],
 "metadata": {
  "kernelspec": {
   "display_name": "pangeo23",
   "language": "python",
   "name": "pangeo23"
  },
  "language_info": {
   "codemirror_mode": {
    "name": "ipython",
    "version": 3
   },
   "file_extension": ".py",
   "mimetype": "text/x-python",
   "name": "python",
   "nbconvert_exporter": "python",
   "pygments_lexer": "ipython3",
   "version": "3.11.6"
  }
 },
 "nbformat": 4,
 "nbformat_minor": 5
}
