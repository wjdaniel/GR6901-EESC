{
 "cells": [
  {
   "cell_type": "code",
   "execution_count": 2,
   "id": "37629ba1-1e4b-4fb0-bea7-4f0c12957ce2",
   "metadata": {},
   "outputs": [],
   "source": [
    "import numpy as np"
   ]
  },
  {
   "cell_type": "code",
   "execution_count": 7,
   "id": "f0d73182-fe95-4d60-9884-e1ff34f2f842",
   "metadata": {},
   "outputs": [
    {
     "name": "stdout",
     "output_type": "stream",
     "text": [
      "[9 0 2 1 0]\n",
      "[[5. 3. 1. 9.]\n",
      " [9. 2. 3. 0.]]\n"
     ]
    }
   ],
   "source": [
    "a=np.array([9,0,2,1,0])\n",
    "\n",
    "print(a)\n",
    "\n",
    "a.shape\n",
    "\n",
    "b=np.array([[5,3,1,9],[9,2,3,0]],dtype=np.float64)\n",
    "\n",
    "print(b)\n"
   ]
  },
  {
   "cell_type": "code",
   "execution_count": null,
   "id": "96574dca-d111-4e46-8e33-caa09fb590b7",
   "metadata": {},
   "outputs": [],
   "source": [
    "np.save('mfile.npy', b) #save array b to mfile.npy\n",
    "np.load('mfile.npy')"
   ]
  },
  {
   "cell_type": "code",
   "execution_count": 17,
   "id": "9f44e0b7-306d-43fe-b746-f24571eacf78",
   "metadata": {},
   "outputs": [
    {
     "data": {
      "text/plain": [
       "array([   1.,   10.,  100., 1000.])"
      ]
     },
     "execution_count": 17,
     "metadata": {},
     "output_type": "execute_result"
    }
   ],
   "source": [
    "c=np.zeros((9,9)) # size of array you want. Pad the values first\n",
    "\n",
    "e=np.full((3,3),np.pi)\n",
    "\n",
    "np.arange(10)\n",
    "\n",
    "np.logspace(0,3,4) ## 10^0 to 10^3 by 4 spaces"
   ]
  },
  {
   "cell_type": "code",
   "execution_count": 33,
   "id": "693bc2bb-7c62-425f-8176-7ff504f23abe",
   "metadata": {},
   "outputs": [
    {
     "data": {
      "text/plain": [
       "array([-1.,  0.,  1.])"
      ]
     },
     "execution_count": 33,
     "metadata": {},
     "output_type": "execute_result"
    }
   ],
   "source": [
    "x=np.linspace(-1,1,3)\n",
    "y=np.linspace(-1,1,3)\n",
    "xx,yy=np.meshgrid(x,y)\n",
    "\n",
    "idx=xx<0\n",
    "idx\n",
    "\n",
    "yy[idx]"
   ]
  },
  {
   "cell_type": "code",
   "execution_count": null,
   "id": "8f5cd971-b52e-4a74-924b-73b0c09c09b5",
   "metadata": {},
   "outputs": [],
   "source": [
    "plt.contourf(x,y,f,cmap='jet')"
   ]
  }
 ],
 "metadata": {
  "kernelspec": {
   "display_name": "pangeo23",
   "language": "python",
   "name": "pangeo23"
  },
  "language_info": {
   "codemirror_mode": {
    "name": "ipython",
    "version": 3
   },
   "file_extension": ".py",
   "mimetype": "text/x-python",
   "name": "python",
   "nbconvert_exporter": "python",
   "pygments_lexer": "ipython3",
   "version": "3.11.6"
  }
 },
 "nbformat": 4,
 "nbformat_minor": 5
}
